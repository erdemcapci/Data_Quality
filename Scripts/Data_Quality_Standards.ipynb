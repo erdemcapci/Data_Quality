{
 "cells": [
  {
   "cell_type": "code",
   "execution_count": null,
   "id": "2fee4678",
   "metadata": {},
   "outputs": [],
   "source": [
    "# Library Import\n",
    "import pandas as pd\n",
    "\n",
    "# Data Import\n",
    "df=pd.read_csv('VAT_Dataset.csv', sep=\";\")\n",
    "\n",
    "# Change column names to a standard\n",
    "df.rename(columns={'ID_x': 'Customer_ID', 'Country_x': 'Country','VAT': 'Check_Column'}, inplace=True)\n",
    "\n",
    "# Show top 5 rows\n",
    "df.head()\n"
   ]
  },
  {
   "cell_type": "code",
   "execution_count": null,
   "id": "3dfc0c1e",
   "metadata": {},
   "outputs": [],
   "source": [
    "df.shape"
   ]
  },
  {
   "cell_type": "code",
   "execution_count": null,
   "id": "3b606c49",
   "metadata": {},
   "outputs": [],
   "source": [
    "df.loc[(df['Check_Column'].isnull())]"
   ]
  },
  {
   "cell_type": "code",
   "execution_count": null,
   "id": "0d68642c",
   "metadata": {},
   "outputs": [],
   "source": [
    "# List missing value\n",
    "df.loc[(df['Check_Column'].isnull())]\n",
    "\n",
    "# Drop rows where Check_Column is missing\n",
    "df=df.dropna(subset=['Check_Column'])\n",
    "\n",
    "# Reset index for dropped rows\n",
    "df.reset_index(inplace=True, drop=True)\n",
    "\n",
    "# The new size of df\n",
    "df.shape"
   ]
  },
  {
   "cell_type": "code",
   "execution_count": null,
   "id": "293e7a68",
   "metadata": {},
   "outputs": [],
   "source": [
    "# Group by country\n",
    "dfg = df.groupby(['Country']).size()\n",
    "\n",
    "# Plot\n",
    "dfg.plot(kind='bar', ylabel='Customer Count',\n",
    "         xlabel='Country', figsize=(10, 6))"
   ]
  },
  {
   "cell_type": "markdown",
   "id": "9f972c7d",
   "metadata": {},
   "source": [
    "# Section 1 - Pattern Frequency"
   ]
  },
  {
   "cell_type": "markdown",
   "id": "8a4e2a05",
   "metadata": {},
   "source": [
    "### List all characters used in the column"
   ]
  },
  {
   "cell_type": "code",
   "execution_count": null,
   "id": "2da43e48",
   "metadata": {},
   "outputs": [],
   "source": [
    "# 1. String conversion\n",
    "df['Check_Column']=df['Check_Column'].map(str)\n",
    "\n",
    "# 2. Split Check_Column\n",
    "df['Check_Column_Split']=df['Check_Column'].apply(list)\n",
    "\n",
    "# Show top 5 records\n",
    "df.head()"
   ]
  },
  {
   "cell_type": "markdown",
   "id": "3f38fc93",
   "metadata": {},
   "source": [
    "## Overview of all characters (Optional Section)"
   ]
  },
  {
   "cell_type": "code",
   "execution_count": null,
   "id": "0570283c",
   "metadata": {},
   "outputs": [],
   "source": [
    "lst = list(range(1,10000))\n",
    "lst_1=[chr(item) for item in lst]"
   ]
  },
  {
   "cell_type": "code",
   "execution_count": null,
   "id": "a6b1a3e9",
   "metadata": {},
   "outputs": [],
   "source": [
    "df_all_ascii = pd.DataFrame()\n",
    "df_all_ascii['Ord']  = lst\n",
    "df_all_ascii['Chr']  = lst_1\n",
    "df_all_ascii['Type']  = df_all_ascii['Chr'].apply(type)\n",
    "print(df_all_ascii.loc[1200:1300])"
   ]
  },
  {
   "cell_type": "markdown",
   "id": "d4900fa6",
   "metadata": {},
   "source": [
    "## Ascii code decoder\n",
    "Ascii codes<br>\n",
    "<48 Chr_1<br>\n",
    "<58 Num<br>\n",
    "<65 Chr_2<br>\n",
    "<91 Let<br>\n",
    "<97 Chr_3<br>\n",
    "<123 Let<br>\n",
    "Chr_4"
   ]
  },
  {
   "cell_type": "code",
   "execution_count": null,
   "id": "68b32bf4",
   "metadata": {},
   "outputs": [],
   "source": [
    "print(\"ASCII code of Ä: \" + str(ord(\"Ä\")))\n",
    "print(\"ASCII code of Ç: \" + str(ord(\"Ç\")))\n",
    "print(\"ASCII code of ä: \" + str(ord(\"ä\")))\n",
    "print(\"ASCII code of ç: \" + str(ord(\"ç\")))"
   ]
  },
  {
   "cell_type": "code",
   "execution_count": null,
   "id": "be1cb169",
   "metadata": {},
   "outputs": [],
   "source": [
    "# Define a list for additional letters\n",
    "add_L_arr = ['Ä', 'ä', 'Ç', 'ç']\n",
    "\n",
    "# Translate additional letters to ASCII\n",
    "add_L_arr_ord = list(map(ord, add_L_arr))\n",
    "\n",
    "# Show\n",
    "add_L_arr_ord"
   ]
  },
  {
   "cell_type": "code",
   "execution_count": null,
   "id": "a252caa6",
   "metadata": {},
   "outputs": [],
   "source": [
    "# Create function\n",
    "def ascii_translator(text_list):\n",
    "    result=[]\n",
    "    for x in text_list:\n",
    "        x=ord(x) # Converting characters to ASCII\n",
    "        if x in (add_L_arr_ord): # Condition for additional letter ASCII representations\n",
    "            result.append(\"L\") # Letter\n",
    "        elif 32<=x<=47 or 58<=x<=64 or 91<=x<=96 or 123<=x:\n",
    "            result.append(\"S\") # Special Characters\n",
    "        elif 65<=x<=90 or 97<=x<=122:\n",
    "            result.append(\"L\") # Letter\n",
    "        elif 48<=x<=57:\n",
    "            result.append(\"N\") # Numeric\n",
    "        else:\n",
    "            result.append(\"U\") # Uncategorized\n",
    "    return '-'.join(result)\n",
    "\n",
    "# Apply function to df\n",
    "df['Check_Column_Translated']=df['Check_Column_Split'].apply(ascii_translator)\n",
    "\n",
    "# Show top 5 rows\n",
    "df.head()"
   ]
  },
  {
   "cell_type": "code",
   "execution_count": null,
   "id": "859cc666",
   "metadata": {},
   "outputs": [],
   "source": [
    "# 1. Number of patterns by country\n",
    "dfg_1 = df.groupby(['Country','Check_Column_Translated']).size().to_frame(name = 'Pattern_Count').reset_index()\n",
    "\n",
    "# 2. Number of total customers by country\n",
    "dfg_2 = df.groupby(['Country']).size().to_frame(name = 'Country_Subtotal').reset_index()\n",
    "\n",
    "# 3. Merge both grouped tables\n",
    "grp_tbl = pd.merge(dfg_1, dfg_2, how='inner', on=['Country'])\n",
    "\n",
    "# 4. Pattern percentage calculation\n",
    "grp_tbl['Pattern_Pct']=grp_tbl['Pattern_Count']/grp_tbl['Country_Subtotal']\n",
    "\n",
    "# Show top rows\n",
    "grp_tbl.head()"
   ]
  },
  {
   "cell_type": "code",
   "execution_count": null,
   "id": "2f9659af",
   "metadata": {},
   "outputs": [],
   "source": [
    "# Filter and remove unusued columns\n",
    "dfg=grp_tbl[grp_tbl['Country']==\"AA\"][['Check_Column_Translated','Pattern_Pct']]\n",
    "\n",
    "# Plot\n",
    "dfg.plot(x='Check_Column_Translated',y='Pattern_Pct',kind='bar', ylabel='Pattern Pct',\n",
    "         xlabel='Pattern', figsize=(10, 6))"
   ]
  },
  {
   "cell_type": "code",
   "execution_count": null,
   "id": "4e57c44f",
   "metadata": {},
   "outputs": [],
   "source": [
    "dfg"
   ]
  },
  {
   "cell_type": "code",
   "execution_count": null,
   "id": "428d7e04",
   "metadata": {},
   "outputs": [],
   "source": [
    "# Group by country max pattern pct (We keep Check_Column_Translated to be used in Reporting section)\n",
    "grp_cntry_max=grp_tbl.loc[grp_tbl.groupby('Country')['Pattern_Pct'].idxmax()][['Country','Check_Column_Translated','Pattern_Pct']]\n",
    "\n",
    "# Plot\n",
    "grp_cntry_max[['Country','Pattern_Pct']].plot(x='Country',y='Pattern_Pct',kind='bar', ylabel='Pattern Pct',\n",
    "         xlabel='Country', figsize=(10, 6))"
   ]
  },
  {
   "cell_type": "code",
   "execution_count": null,
   "id": "a636c5bf",
   "metadata": {},
   "outputs": [],
   "source": [
    "# Merge customer level table with country-pattern level table\n",
    "df_all_temp = pd.merge(df, grp_tbl, how='inner', on=['Country','Check_Column_Translated'])\n",
    "\n",
    "# Remove unused column\n",
    "df_all_temp.drop('Check_Column_Split',1,inplace=True)\n",
    "\n",
    "# Show table\n",
    "df_all_temp"
   ]
  },
  {
   "cell_type": "code",
   "execution_count": null,
   "id": "a3392300",
   "metadata": {},
   "outputs": [],
   "source": [
    "# Assign threshold\n",
    "threshold=0.01\n",
    "\n",
    "# Filter customer that are under threshold\n",
    "df_all = df_all_temp[df_all_temp.Pattern_Pct<=threshold].reset_index()\n",
    "\n",
    "# Show df_all\n",
    "df_all"
   ]
  },
  {
   "cell_type": "code",
   "execution_count": null,
   "id": "a7353c50",
   "metadata": {},
   "outputs": [],
   "source": [
    "grp_cntry_max.head()"
   ]
  },
  {
   "cell_type": "code",
   "execution_count": null,
   "id": "e99b9be6",
   "metadata": {},
   "outputs": [],
   "source": [
    "# Renaming df_all_temp table. C is used for 'Customer', MC is used for 'Most Common'\n",
    "df_all.rename(columns={'Check_Column_Translated': 'C_Pattern', \n",
    "                            'Pattern_Count': 'C_Pttrn_Count',\n",
    "                            'Country_Subtotal': 'C_No_by_Cntry',\n",
    "                            'Pattern_Pct': 'C_Pttrn_Pct'}, inplace=True)\n",
    "\n",
    "# Renaming grp_cntry_max table. MC is used for 'Most Common'\n",
    "grp_cntry_max.rename(columns={'Check_Column_Translated': 'MC_Pattern', \n",
    "                              'Pattern_Pct': 'MC_Pttrn_Pct'}, inplace=True)\n",
    "\n",
    "# Merge customer level table with country most common pattern table\n",
    "df_report = pd.merge(df_all, grp_cntry_max, how='inner', on=['Country'])\n",
    "\n",
    "# Remove unused column\n",
    "df_report.drop('index',axis=1,inplace=True)\n",
    "\n",
    "# Show df_report\n",
    "df_report.head()"
   ]
  },
  {
   "cell_type": "code",
   "execution_count": null,
   "id": "cec56e87",
   "metadata": {},
   "outputs": [],
   "source": [
    "# Groupby for an exception count per country\n",
    "df_vs=df_report.groupby(['Country','C_No_by_Cntry'],as_index=False)['Customer_ID'].count()\n",
    "df_vs.rename(columns={'Customer_ID':'exc_count'}, inplace=True)\n",
    "\n",
    "# Sort according to exception count\n",
    "df_vs.sort_values('exc_count', ascending=False, inplace=True)\n",
    "\n",
    "# Plot exception count for top 10 countries \n",
    "df_vs.head(10).plot(kind='pie',y='exc_count',labels=df_vs['Country'], legend = False, figsize=(16,8), autopct='%1.f%%')"
   ]
  },
  {
   "cell_type": "code",
   "execution_count": null,
   "id": "27c68460",
   "metadata": {},
   "outputs": [],
   "source": [
    "# Calculate exception percentage\n",
    "df_vs['Exception_Pct']=df_vs['exc_count']/df_vs['C_No_by_Cntry']\n",
    "\n",
    "# Sort according to exception percentage\n",
    "df_vs.sort_values('Exception_Pct', ascending=False, inplace=True)\n",
    "\n",
    "# Plot\n",
    "df_vs.plot(x='Country',y='Exception_Pct',kind='bar',\n",
    "         xlabel='Country', figsize=(10, 6))"
   ]
  }
 ],
 "metadata": {
  "kernelspec": {
   "display_name": "Python 3 (ipykernel)",
   "language": "python",
   "name": "python3"
  },
  "language_info": {
   "codemirror_mode": {
    "name": "ipython",
    "version": 3
   },
   "file_extension": ".py",
   "mimetype": "text/x-python",
   "name": "python",
   "nbconvert_exporter": "python",
   "pygments_lexer": "ipython3",
   "version": "3.9.7"
  }
 },
 "nbformat": 4,
 "nbformat_minor": 5
}
